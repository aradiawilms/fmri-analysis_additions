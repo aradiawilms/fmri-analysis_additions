{
 "cells": [
  {
   "cell_type": "code",
   "execution_count": 293,
   "id": "d3165955",
   "metadata": {},
   "outputs": [],
   "source": [
    "from nipype import Node, JoinNode, Workflow\n",
    "from nipype.pipeline import engine as pe\n",
    "from nipype.interfaces.utility import IdentityInterface, Function\n",
    "import os"
   ]
  },
  {
   "cell_type": "code",
   "execution_count": 268,
   "id": "348e0c73",
   "metadata": {},
   "outputs": [],
   "source": [
    "def square(x):\n",
    "    return x**2\n",
    "\n",
    "def combine(x):\n",
    "    print(x)\n",
    "    import numpy as np\n",
    "    return np.sum(x)"
   ]
  },
  {
   "cell_type": "code",
   "execution_count": 269,
   "id": "201b5efe",
   "metadata": {},
   "outputs": [],
   "source": [
    "inputnode = pe.Node(IdentityInterface(fields=['in_files']),name='inputnode')\n",
    "squarenode = pe.MapNode(Function(input_names=['x'],\n",
    "                                 output_names=['y'],\n",
    "                                 function=square), \n",
    "                        name='squarenode',\n",
    "                        iterfield=['x'])\n",
    "sumnode = pe.Node(Function(input_names=['x'],\n",
    "                           output_names=['y'],\n",
    "                           function=combine),\n",
    "                  name='sumnode')\n",
    "#sumnode = pe.JoinNode(Function(input_names=['x'],\n",
    "#                               output_names=['y'],\n",
    "#                               function=combine),\n",
    "#                      name='sumnode',\n",
    "#                      joinsource=squarenode,\n",
    "#                      joinfield=['x'])\n",
    "outputnode = pe.Node(IdentityInterface(fields=['y']),name='outputnode')"
   ]
  },
  {
   "cell_type": "code",
   "execution_count": 270,
   "id": "63617136",
   "metadata": {},
   "outputs": [],
   "source": [
    "wf = Workflow(name='wf')\n",
    "wf.connect([\n",
    "    (inputnode,squarenode,[('in_files','x')]),\n",
    "    (squarenode,sumnode,[('y','x')]),\n",
    "    (sumnode,outputnode,[('y','y')]),\n",
    "])"
   ]
  },
  {
   "cell_type": "code",
   "execution_count": 277,
   "id": "a4b352e3",
   "metadata": {},
   "outputs": [
    {
     "name": "stdout",
     "output_type": "stream",
     "text": [
      "220409-09:00:44,959 nipype.workflow INFO:\n",
      "\t Generated workflow graph: /Users/denis/ownCloud/pfc-layers/analysis/fmri-analysis/workflows/graph.png (graph2use=exec, simple_form=True).\n"
     ]
    },
    {
     "data": {
      "image/png": "[encoded data removed]",
      "text/plain": [
       "<IPython.core.display.Image object>"
      ]
     },
     "execution_count": 277,
     "metadata": {},
     "output_type": "execute_result"
    }
   ],
   "source": [
    "\n",
    "# Write graph of type orig\n",
    "wf.write_graph(graph2use='exec')\n",
    "\n",
    "# Visualize graph\n",
    "from IPython.display import Image\n",
    "Image(filename=\"graph_detailed.png\")"
   ]
  },
  {
   "cell_type": "code",
   "execution_count": 272,
   "id": "7b4bd326",
   "metadata": {
    "scrolled": true
   },
   "outputs": [
    {
     "name": "stdout",
     "output_type": "stream",
     "text": [
      "220409-09:00:14,755 nipype.workflow INFO:\n",
      "\t Workflow wf settings: ['check', 'execution', 'logging', 'monitoring']\n",
      "220409-09:00:14,765 nipype.workflow INFO:\n",
      "\t Running serially.\n",
      "220409-09:00:14,774 nipype.workflow INFO:\n",
      "\t [Node] Setting-up \"_squarenode0\" in \"/private/var/folders/tv/89mnq15d42xb88p8n7thvy1w0000gn/T/tmpvorg0fm5/wf/squarenode/mapflow/_squarenode0\".\n",
      "220409-09:00:14,779 nipype.workflow INFO:\n",
      "\t [Node] Executing \"_squarenode0\" <nipype.interfaces.utility.wrappers.Function>\n",
      "220409-09:00:14,781 nipype.workflow INFO:\n",
      "\t [Node] Finished \"_squarenode0\", elapsed time 0.00054s.\n",
      "220409-09:00:14,786 nipype.workflow INFO:\n",
      "\t [Node] Setting-up \"_squarenode1\" in \"/private/var/folders/tv/89mnq15d42xb88p8n7thvy1w0000gn/T/tmpvorg0fm5/wf/squarenode/mapflow/_squarenode1\".\n",
      "220409-09:00:14,790 nipype.workflow INFO:\n",
      "\t [Node] Executing \"_squarenode1\" <nipype.interfaces.utility.wrappers.Function>\n",
      "220409-09:00:14,793 nipype.workflow INFO:\n",
      "\t [Node] Finished \"_squarenode1\", elapsed time 0.000584s.\n",
      "220409-09:00:14,798 nipype.workflow INFO:\n",
      "\t [Node] Setting-up \"_squarenode2\" in \"/private/var/folders/tv/89mnq15d42xb88p8n7thvy1w0000gn/T/tmpvorg0fm5/wf/squarenode/mapflow/_squarenode2\".\n",
      "220409-09:00:14,803 nipype.workflow INFO:\n",
      "\t [Node] Executing \"_squarenode2\" <nipype.interfaces.utility.wrappers.Function>\n",
      "220409-09:00:14,807 nipype.workflow INFO:\n",
      "\t [Node] Finished \"_squarenode2\", elapsed time 0.000619s.\n",
      "220409-09:00:14,813 nipype.workflow INFO:\n",
      "\t [Node] Setting-up \"_squarenode3\" in \"/private/var/folders/tv/89mnq15d42xb88p8n7thvy1w0000gn/T/tmpvorg0fm5/wf/squarenode/mapflow/_squarenode3\".\n",
      "220409-09:00:14,819 nipype.workflow INFO:\n",
      "\t [Node] Executing \"_squarenode3\" <nipype.interfaces.utility.wrappers.Function>\n",
      "220409-09:00:14,822 nipype.workflow INFO:\n",
      "\t [Node] Finished \"_squarenode3\", elapsed time 0.000585s.\n",
      "220409-09:00:14,826 nipype.workflow INFO:\n",
      "\t [Node] Setting-up \"_squarenode4\" in \"/private/var/folders/tv/89mnq15d42xb88p8n7thvy1w0000gn/T/tmpvorg0fm5/wf/squarenode/mapflow/_squarenode4\".\n",
      "220409-09:00:14,830 nipype.workflow INFO:\n",
      "\t [Node] Executing \"_squarenode4\" <nipype.interfaces.utility.wrappers.Function>\n",
      "220409-09:00:14,832 nipype.workflow INFO:\n",
      "\t [Node] Finished \"_squarenode4\", elapsed time 0.000581s.\n",
      "220409-09:00:14,838 nipype.workflow INFO:\n",
      "\t [Node] Setting-up \"_squarenode5\" in \"/private/var/folders/tv/89mnq15d42xb88p8n7thvy1w0000gn/T/tmpvorg0fm5/wf/squarenode/mapflow/_squarenode5\".\n",
      "220409-09:00:14,844 nipype.workflow INFO:\n",
      "\t [Node] Executing \"_squarenode5\" <nipype.interfaces.utility.wrappers.Function>\n",
      "220409-09:00:14,848 nipype.workflow INFO:\n",
      "\t [Node] Finished \"_squarenode5\", elapsed time 0.000668s.\n",
      "220409-09:00:14,856 nipype.workflow INFO:\n",
      "\t [Node] Setting-up \"wf.sumnode\" in \"/private/var/folders/tv/89mnq15d42xb88p8n7thvy1w0000gn/T/tmpopyk0ie9/wf/sumnode\".\n",
      "220409-09:00:14,862 nipype.workflow INFO:\n",
      "\t [Node] Executing \"sumnode\" <nipype.interfaces.utility.wrappers.Function>\n",
      "[1, 4, 9, 16, 25, 36]\n",
      "220409-09:00:14,866 nipype.workflow INFO:\n",
      "\t [Node] Finished \"sumnode\", elapsed time 0.0021s.\n"
     ]
    }
   ],
   "source": [
    "wf.inputs.inputnode.in_files = [1,2,3,4,5,6]\n",
    "results = wf.run()"
   ]
  },
  {
   "cell_type": "code",
   "execution_count": 273,
   "id": "02ae26eb",
   "metadata": {
    "scrolled": true
   },
   "outputs": [
    {
     "data": {
      "text/plain": [
       "[{'function_str': 'def square(x):\\n    return x**2\\n', 'x': 1},\n",
       " {'function_str': 'def square(x):\\n    return x**2\\n', 'x': 2},\n",
       " {'function_str': 'def square(x):\\n    return x**2\\n', 'x': 3},\n",
       " {'function_str': 'def square(x):\\n    return x**2\\n', 'x': 4},\n",
       " {'function_str': 'def square(x):\\n    return x**2\\n', 'x': 5},\n",
       " {'function_str': 'def square(x):\\n    return x**2\\n', 'x': 6}]"
      ]
     },
     "execution_count": 273,
     "metadata": {},
     "output_type": "execute_result"
    }
   ],
   "source": [
    "list(results.nodes())[0].result.inputs"
   ]
  },
  {
   "cell_type": "code",
   "execution_count": 274,
   "id": "fdd42049",
   "metadata": {},
   "outputs": [
    {
     "data": {
      "text/plain": [
       "{'function_str': 'def combine(x):\\n    print(x)\\n    import numpy as np\\n    return np.sum(x)\\n',\n",
       " 'x': [1, 4, 9, 16, 25, 36]}"
      ]
     },
     "execution_count": 274,
     "metadata": {},
     "output_type": "execute_result"
    }
   ],
   "source": [
    "list(results.nodes())[1].result.inputs"
   ]
  },
  {
   "cell_type": "code",
   "execution_count": 275,
   "id": "6ecc4c03",
   "metadata": {},
   "outputs": [
    {
     "data": {
      "text/plain": [
       "Bunch(y=[1, 4, 9, 16, 25, 36])"
      ]
     },
     "execution_count": 275,
     "metadata": {},
     "output_type": "execute_result"
    }
   ],
   "source": [
    "list(results.nodes())[0].result.outputs"
   ]
  },
  {
   "cell_type": "code",
   "execution_count": 276,
   "id": "9638596f",
   "metadata": {
    "scrolled": true
   },
   "outputs": [
    {
     "data": {
      "text/plain": [
       "\n",
       "y = 91"
      ]
     },
     "execution_count": 276,
     "metadata": {},
     "output_type": "execute_result"
    }
   ],
   "source": [
    "list(results.nodes())[1].result.outputs"
   ]
  },
  {
   "cell_type": "code",
   "execution_count": 255,
   "id": "2c2995e6",
   "metadata": {
    "scrolled": true
   },
   "outputs": [
    {
     "data": {
      "text/plain": [
       "NodeView((wf.squarenode, wf.sumnode))"
      ]
     },
     "execution_count": 255,
     "metadata": {},
     "output_type": "execute_result"
    }
   ],
   "source": [
    "results.nodes()"
   ]
  },
  {
   "cell_type": "code",
   "execution_count": 256,
   "id": "979a3605",
   "metadata": {},
   "outputs": [],
   "source": [
    "ii = IdentityInterface(fields=['in_files'])\n",
    "ii.inputs.in_files = 4"
   ]
  },
  {
   "cell_type": "code",
   "execution_count": 257,
   "id": "2e8689ce",
   "metadata": {},
   "outputs": [],
   "source": [
    "n = pe.Node(IdentityInterface(fields=['in_files']),name='inputnode')"
   ]
  },
  {
   "cell_type": "code",
   "execution_count": 258,
   "id": "4526cfd7",
   "metadata": {},
   "outputs": [],
   "source": [
    "n.inputs.in_files = 4"
   ]
  },
  {
   "cell_type": "code",
   "execution_count": 73,
   "id": "08ae5180",
   "metadata": {},
   "outputs": [
    {
     "name": "stdout",
     "output_type": "stream",
     "text": [
      "220408-19:14:44,20 nipype.workflow INFO:\n",
      "\t [Node] Setting-up \"inputnode\" in \"/private/var/folders/tv/89mnq15d42xb88p8n7thvy1w0000gn/T/tmpygt7mal_/inputnode\".\n",
      "220408-19:14:44,25 nipype.workflow INFO:\n",
      "\t [Node] Executing \"inputnode\" <nipype.interfaces.utility.base.IdentityInterface>\n",
      "220408-19:14:44,27 nipype.workflow INFO:\n",
      "\t [Node] Finished \"inputnode\", elapsed time 0.000241s.\n"
     ]
    }
   ],
   "source": [
    "res = n.run()"
   ]
  },
  {
   "cell_type": "code",
   "execution_count": 74,
   "id": "69adea89",
   "metadata": {},
   "outputs": [
    {
     "data": {
      "text/plain": [
       "\n",
       "in_files = 4"
      ]
     },
     "execution_count": 74,
     "metadata": {},
     "output_type": "execute_result"
    }
   ],
   "source": [
    "res.outputs"
   ]
  },
  {
   "cell_type": "code",
   "execution_count": 77,
   "id": "fbbdf2ba",
   "metadata": {},
   "outputs": [
    {
     "data": {
      "text/plain": [
       "\n",
       "in_files = 4"
      ]
     },
     "execution_count": 77,
     "metadata": {},
     "output_type": "execute_result"
    }
   ],
   "source": [
    "n.result.outputs"
   ]
  },
  {
   "cell_type": "code",
   "execution_count": 59,
   "id": "3ec71fe3",
   "metadata": {
    "scrolled": true
   },
   "outputs": [
    {
     "name": "stdout",
     "output_type": "stream",
     "text": [
      "220408-15:51:23,17 nipype.workflow INFO:\n",
      "\t [Node] Setting-up \"_squarenode0\" in \"/private/var/folders/tv/89mnq15d42xb88p8n7thvy1w0000gn/T/tmpimdscjr_/squarenode/mapflow/_squarenode0\".\n",
      "220408-15:51:23,22 nipype.workflow INFO:\n",
      "\t [Node] Executing \"_squarenode0\" <nipype.interfaces.utility.wrappers.Function>\n",
      "220408-15:51:23,24 nipype.workflow INFO:\n",
      "\t [Node] Finished \"_squarenode0\", elapsed time 0.000341s.\n",
      "220408-15:51:23,29 nipype.workflow INFO:\n",
      "\t [Node] Setting-up \"_squarenode1\" in \"/private/var/folders/tv/89mnq15d42xb88p8n7thvy1w0000gn/T/tmpimdscjr_/squarenode/mapflow/_squarenode1\".\n",
      "220408-15:51:23,33 nipype.workflow INFO:\n",
      "\t [Node] Executing \"_squarenode1\" <nipype.interfaces.utility.wrappers.Function>\n",
      "220408-15:51:23,37 nipype.workflow INFO:\n",
      "\t [Node] Finished \"_squarenode1\", elapsed time 0.000587s.\n",
      "220408-15:51:23,42 nipype.workflow INFO:\n",
      "\t [Node] Setting-up \"_squarenode2\" in \"/private/var/folders/tv/89mnq15d42xb88p8n7thvy1w0000gn/T/tmpimdscjr_/squarenode/mapflow/_squarenode2\".\n",
      "220408-15:51:23,49 nipype.workflow INFO:\n",
      "\t [Node] Executing \"_squarenode2\" <nipype.interfaces.utility.wrappers.Function>\n",
      "220408-15:51:23,52 nipype.workflow INFO:\n",
      "\t [Node] Finished \"_squarenode2\", elapsed time 0.000885s.\n",
      "220408-15:51:23,56 nipype.workflow INFO:\n",
      "\t [Node] Setting-up \"_squarenode3\" in \"/private/var/folders/tv/89mnq15d42xb88p8n7thvy1w0000gn/T/tmpimdscjr_/squarenode/mapflow/_squarenode3\".\n",
      "220408-15:51:23,59 nipype.workflow INFO:\n",
      "\t [Node] Executing \"_squarenode3\" <nipype.interfaces.utility.wrappers.Function>\n",
      "220408-15:51:23,62 nipype.workflow INFO:\n",
      "\t [Node] Finished \"_squarenode3\", elapsed time 0.000587s.\n"
     ]
    },
    {
     "data": {
      "text/plain": [
       "Bunch(y=[9, 4, 16, 49])"
      ]
     },
     "execution_count": 59,
     "metadata": {},
     "output_type": "execute_result"
    }
   ],
   "source": [
    "squarenode.inputs.x = [3,2,4,7]\n",
    "squarenode.run()\n",
    "squarenode.result.outputs"
   ]
  },
  {
   "cell_type": "markdown",
   "id": "79922e23",
   "metadata": {},
   "source": [
    "### fMRI example"
   ]
  },
  {
   "cell_type": "code",
   "execution_count": 301,
   "id": "f57c9b66",
   "metadata": {},
   "outputs": [],
   "source": [
    "from nipype.interfaces.afni import OutlierCount, Eval, "
   ]
  },
  {
   "cell_type": "code",
   "execution_count": 302,
   "id": "aff6e314",
   "metadata": {},
   "outputs": [],
   "source": [
    "in_files = [os.path.abspath(file) for file in ['func_01.nii','func_02.nii']]"
   ]
  },
  {
   "cell_type": "code",
   "execution_count": 306,
   "id": "d6160ac7",
   "metadata": {},
   "outputs": [],
   "source": [
    "inputnode = pe.Node(IdentityInterface(fields=[\"in_files\"]), name=\"inputnode\")\n",
    "\n",
    "outlier_count = pe.MapNode(\n",
    "    OutlierCount(automask=True, fraction=True, polort=5, legendre=True, out_file='outlier_cound.1D'),\n",
    "    name=\"outlier_count\",\n",
    "    iterfield=['in_file'])\n",
    "\n",
    "num_vols = pe.Node()\n",
    "\n",
    "#add_counts = pe.Node(Eval(expr=\"a+b\"), name=\"add_counts\")\n",
    "\n",
    "outputnode = pe.Node(\n",
    "    IdentityInterface(fields=[\"run_idx, volume_idx\"]), name=\"outputnode\")"
   ]
  },
  {
   "cell_type": "code",
   "execution_count": 307,
   "id": "f4552275",
   "metadata": {},
   "outputs": [],
   "source": [
    "find_best_volume_wf = Workflow(name='find_best_volume')\n",
    "find_best_volume_wf.connect([\n",
    "    (inputnode,outlier_count,[('in_files','in_file')]),\n",
    "])"
   ]
  },
  {
   "cell_type": "code",
   "execution_count": 308,
   "id": "18e11482",
   "metadata": {},
   "outputs": [
    {
     "name": "stdout",
     "output_type": "stream",
     "text": [
      "220411-07:36:12,667 nipype.workflow INFO:\n",
      "\t Workflow find_best_volume settings: ['check', 'execution', 'logging', 'monitoring']\n",
      "220411-07:36:12,674 nipype.workflow INFO:\n",
      "\t Running serially.\n",
      "220411-07:36:12,681 nipype.workflow INFO:\n",
      "\t [Node] Setting-up \"_outlier_count0\" in \"/private/var/folders/tv/89mnq15d42xb88p8n7thvy1w0000gn/T/tmpb7oxsicb/find_best_volume/outlier_count/mapflow/_outlier_count0\".\n",
      "220411-07:36:12,685 nipype.workflow INFO:\n",
      "\t [Node] Executing \"_outlier_count0\" <nipype.interfaces.afni.preprocess.OutlierCount>\n",
      "220411-07:36:14,577 nipype.workflow INFO:\n",
      "\t [Node] Finished \"_outlier_count0\", elapsed time 1.89017s.\n",
      "220411-07:36:14,584 nipype.workflow INFO:\n",
      "\t [Node] Setting-up \"_outlier_count1\" in \"/private/var/folders/tv/89mnq15d42xb88p8n7thvy1w0000gn/T/tmpb7oxsicb/find_best_volume/outlier_count/mapflow/_outlier_count1\".\n",
      "220411-07:36:14,589 nipype.workflow INFO:\n",
      "\t [Node] Executing \"_outlier_count1\" <nipype.interfaces.afni.preprocess.OutlierCount>\n",
      "220411-07:36:16,379 nipype.workflow INFO:\n",
      "\t [Node] Finished \"_outlier_count1\", elapsed time 1.788241s.\n"
     ]
    }
   ],
   "source": [
    "find_best_volume_wf.inputs.inputnode.in_files = in_files\n",
    "results = find_best_volume_wf.run()"
   ]
  },
  {
   "cell_type": "code",
   "execution_count": 319,
   "id": "b327a6b4",
   "metadata": {},
   "outputs": [
    {
     "data": {
      "text/plain": [
       "Bunch(out_file=['/private/var/folders/tv/89mnq15d42xb88p8n7thvy1w0000gn/T/tmpb7oxsicb/find_best_volume/outlier_count/mapflow/_outlier_count0/outlier_cound.1D',\n",
       "       '/private/var/folders/tv/89mnq15d42xb88p8n7thvy1w0000gn/T/tmpb7oxsicb/find_best_volume/outlier_count/mapflow/_outlier_count1/outlier_cound.1D'],\n",
       "      out_outliers=<undefined>)"
      ]
     },
     "execution_count": 319,
     "metadata": {},
     "output_type": "execute_result"
    }
   ],
   "source": [
    "list(results.nodes())[0].result.outputs"
   ]
  },
  {
   "cell_type": "code",
   "execution_count": 320,
   "id": "570ad853",
   "metadata": {},
   "outputs": [
    {
     "ename": "ModuleNotFoundError",
     "evalue": "No module named 'lib_afni1D'",
     "output_type": "error",
     "traceback": [
      "\u001b[0;31m---------------------------------------------------------------------------\u001b[0m",
      "\u001b[0;31mModuleNotFoundError\u001b[0m                       Traceback (most recent call last)",
      "\u001b[0;32m/var/folders/tv/89mnq15d42xb88p8n7thvy1w0000gn/T/ipykernel_17338/1046336910.py\u001b[0m in \u001b[0;36m<module>\u001b[0;34m\u001b[0m\n\u001b[0;32m----> 1\u001b[0;31m \u001b[0;32mimport\u001b[0m \u001b[0mlib_afni1D\u001b[0m\u001b[0;34m.\u001b[0m\u001b[0mpy\u001b[0m \u001b[0;32mas\u001b[0m \u001b[0mLAD\u001b[0m\u001b[0;34m\u001b[0m\u001b[0;34m\u001b[0m\u001b[0m\n\u001b[0m",
      "\u001b[0;31mModuleNotFoundError\u001b[0m: No module named 'lib_afni1D'"
     ]
    }
   ],
   "source": [
    "import lib_afni1D.py as LAD"
   ]
  },
  {
   "cell_type": "code",
   "execution_count": null,
   "id": "6a2a2721",
   "metadata": {},
   "outputs": [],
   "source": [
    "def get_min_voldix(in_files):\n",
    "    "
   ]
  }
 ],
 "metadata": {
  "kernelspec": {
   "display_name": "Python 3 (ipykernel)",
   "language": "python",
   "name": "python3"
  },
  "language_info": {
   "codemirror_mode": {
    "name": "ipython",
    "version": 3
   },
   "file_extension": ".py",
   "mimetype": "text/x-python",
   "name": "python",
   "nbconvert_exporter": "python",
   "pygments_lexer": "ipython3",
   "version": "3.8.3"
  }
 },
 "nbformat": 4,
 "nbformat_minor": 5
}
